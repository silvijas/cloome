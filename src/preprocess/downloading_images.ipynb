{
 "cells": [
  {
   "cell_type": "code",
   "execution_count": 1,
   "id": "b224f745-097f-4f9e-a19c-9b477d5f04a6",
   "metadata": {},
   "outputs": [],
   "source": [
    "import pandas as pd\n",
    "import os\n",
    "import subprocess"
   ]
  },
  {
   "cell_type": "code",
   "execution_count": 2,
   "id": "401e2d46-3add-4507-9c13-cce8035a2c23",
   "metadata": {},
   "outputs": [],
   "source": [
    "# Removing rows where MoA is unclassified\n",
    "annotations ='/share/data/analyses/silvija/RT/P102785_cmpds_anno.csv'\n",
    "\n",
    "df_ann = pd.read_csv(annotations)\n",
    "df_ann_cleaned = df_ann[df_ann['moa'].notna()]\n",
    "\n",
    "#print(df_ann_cleaned)"
   ]
  },
  {
   "cell_type": "code",
   "execution_count": 10,
   "id": "d081e046-81d5-43b9-ac9b-ac5e12f0e46b",
   "metadata": {},
   "outputs": [],
   "source": [
    "# 13.09 ONLY for MoA = DMSO!!!!\n",
    "ann = '/share/data/analyses/silvija/RT/data_cloome/our_images/preprocessing/P102785_cmpds_anno_MoA.csv'\n",
    "df_ann_MoA = pd.read_csv(ann)\n",
    "df_ann_MoA_only = df_ann_MoA[df_ann_MoA['moa'] == 'dmso']"
   ]
  },
  {
   "cell_type": "code",
   "execution_count": null,
   "id": "71eeecb3-8868-4185-bd11-55f0dd07361d",
   "metadata": {},
   "outputs": [],
   "source": [
    "# Copying images based on the well-id\n",
    "well_ids = df_ann_cleaned['well-id'].tolist()       \n",
    "print(well_ids)\n",
    "\n",
    "img_dir = '/home/jovyan/share/mikro2/squid/specs2k/P102785_specs2k_U2OS-48h-P01-L1-moa_2023-11-29_14.13.20'\n",
    "tiff_dir = '/share/data/analyses/silvija/RT/data_cloome/our_images/preprocessing_all/channels_tiff_DMSO'\n",
    "\n",
    "missing_files = []\n",
    "\n",
    "for well_id in well_ids:\n",
    "    command = f\"cp {img_dir}/{well_id}* {tiff_dir}\" \n",
    "    result = subprocess.run(command, shell=True, stdout=subprocess.PIPE, stderr=subprocess.PIPE, text=True)\n",
    "\n",
    "    if \"No such file or directory\" in result.stderr:\n",
    "        print(f\"File missing for well_id: {well_id}\")\n",
    "        missing_files.append(well_id) "
   ]
  },
  {
   "cell_type": "code",
   "execution_count": 13,
   "id": "3a14ca20-3f89-4d13-bdb7-41fad6f4d70a",
   "metadata": {},
   "outputs": [
    {
     "name": "stdout",
     "output_type": "stream",
     "text": [
      "Files for the following wells were not found : []\n",
      "     barcode well-id                                          moa     cbk-id  \\\n",
      "0    P102785     A01                                  LXR agonist  CBK024768   \n",
      "2    P102785     A03           MAP kinase inhibitor|MEK inhibitor  CBK290225   \n",
      "3    P102785     A04            acetylcholine receptor antagonist  CBK289990   \n",
      "4    P102785     A04            acetylcholine receptor antagonist  CBK289990   \n",
      "6    P102785     A07                              IGF-1 inhibitor  CBK290845   \n",
      "..       ...     ...                                          ...        ...   \n",
      "347  P102785     P19                              IGF-1 inhibitor  CBK290845   \n",
      "348  P102785     P21  phosphoinositide dependent kinase inhibitor  CBK309007   \n",
      "349  P102785     P22            protein tyrosine kinase inhibitor  CBK303958   \n",
      "350  P102785     P23           MAP kinase inhibitor|MEK inhibitor  CBK290225   \n",
      "351  P102785     P24   histone lysine methyltransferase inhibitor  CBK301244   \n",
      "\n",
      "      batch-id                     cmpd-name  \\\n",
      "0    DO8145313                     T 0901317   \n",
      "2    DO8145315                     PD 198306   \n",
      "3    DO8145307  (S)-(+)-Dimethindene maleate   \n",
      "4    DO8145307  (S)-(+)-Dimethindene maleate   \n",
      "6    DO8145383                    NVP-AEW541   \n",
      "..         ...                           ...   \n",
      "347  DO8145383                    NVP-AEW541   \n",
      "348  DO8145378                       APY0201   \n",
      "349  DO8145356        SHP099 (hydrochloride)   \n",
      "350  DO8145315                     PD 198306   \n",
      "351  DO8145336                         A 366   \n",
      "\n",
      "                                                SMILES  \n",
      "0    O=S(=O)(c1ccccc1)N(CC(F)(F)F)c1ccc(C(O)(C(F)(F...  \n",
      "2          Cc1cc(I)ccc1Nc1c(C(=O)NOCC2CC2)cc(F)c(F)c1F  \n",
      "3                  CC(C1=C(CCN(C)C)Cc2ccccc12)c1ccccn1  \n",
      "4        C[C@H](C3=NC=CC=C3)C2=C(CCN(C)C)CC1=CC=CC=C12  \n",
      "6     Cc1ccccc1-n1c(Cn2ncc3c(N)ncnc23)nc2cccc(C)c2c1=O  \n",
      "..                                                 ...  \n",
      "347   Cc1ccccc1-n1c(Cn2ncc3c(N)ncnc23)nc2cccc(C)c2c1=O  \n",
      "348  CC1=CC(/C=N/NC2=NC3=CC(C4=CC=NC=C4)=NN3C(N5CCO...  \n",
      "349      NC1=NC(N2CCC(C)(N)CC2)=CN=C1C3=CC=CC(Cl)=C3Cl  \n",
      "350        Cc1cc(I)ccc1Nc1c(C(=O)NOCC2CC2)cc(F)c(F)c1F  \n",
      "351         COC1=C(OCCCN4CCCC4)C=C(N=C(N)C32CCC3)C2=C1  \n",
      "\n",
      "[276 rows x 7 columns]\n"
     ]
    }
   ],
   "source": [
    "# Removing rows with well-ids that do not have images.\n",
    "print(f\"Files for the following wells were not found : {missing_files}\")\n",
    "\n",
    "df_ann_final = df_ann_cleaned[~df_ann_cleaned['well-id'].isin(missing_files)]\n",
    "print(df_ann_final)"
   ]
  },
  {
   "cell_type": "code",
   "execution_count": 18,
   "id": "c57311c5-f5fa-45b8-b379-625270157b89",
   "metadata": {},
   "outputs": [],
   "source": [
    "csv_filename = '/share/data/analyses/silvija/RT/data_cloome/our_images/preprocessing_all/P102785_cmpds_ann_cleaned.csv'\n",
    "df_ann_final.to_csv(csv_filename, index=False)"
   ]
  },
  {
   "cell_type": "code",
   "execution_count": 20,
   "id": "ad4721f6-e744-4c01-94e6-4f22186cd006",
   "metadata": {},
   "outputs": [],
   "source": [
    "csv_filename = '/share/data/analyses/silvija/RT/data_cloome/our_images/preprocessing_all/P102785_cmpds_ann_cleaned_DMSO.csv'      # 13.09\n",
    "df_ann_MoA_only.to_csv(csv_filename, index=False)"
   ]
  }
 ],
 "metadata": {
  "kernelspec": {
   "display_name": "Cloome Environment",
   "language": "python",
   "name": "cloome"
  },
  "language_info": {
   "codemirror_mode": {
    "name": "ipython",
    "version": 3
   },
   "file_extension": ".py",
   "mimetype": "text/x-python",
   "name": "python",
   "nbconvert_exporter": "python",
   "pygments_lexer": "ipython3",
   "version": "3.9.7"
  }
 },
 "nbformat": 4,
 "nbformat_minor": 5
}
