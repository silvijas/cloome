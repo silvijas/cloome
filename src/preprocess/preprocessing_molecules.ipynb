{
 "cells": [
  {
   "cell_type": "code",
   "execution_count": 6,
   "id": "6e8a3d30-c494-4d9f-a0e5-1562cddcce7f",
   "metadata": {},
   "outputs": [],
   "source": [
    "import os\n",
    "import sys\n",
    "src_path = os.path.split(os.getcwd())[0]\n",
    "sys.path.insert(0, src_path)\n",
    "import numpy as np\n",
    "import pandas as pd\n",
    "from rdkit.Chem import AllChem\n",
    "from rdkit import Chem\n",
    "from rdkit.Chem import AllChem\n",
    "from rdkit.Chem import DataStructs\n",
    "from clip import helpers\n",
    "\n",
    "def morgan_from_smiles(smiles, radius=3, nbits=1024, chiral=True):\n",
    "    mol = Chem.MolFromSmiles(smiles)\n",
    "    fp = AllChem.GetMorganFingerprintAsBitVect(mol, radius=3, nBits=nbits, useChirality=chiral)\n",
    "    arr = np.zeros((0,), dtype=np.int8)\n",
    "    DataStructs.ConvertToNumpyArray(fp,arr)\n",
    "    return arr\n",
    "\n",
    "\n",
    "if __name__ == '__main__':\n",
    "    #indir = \"<path-to-your-folder>\"\n",
    "    #index = \"<path-to-your-folder>/cellpainting-index.csv\"\n",
    "    #index = os.path.join(indir, index)\n",
    " #   index = '/share/data/analyses/silvija/RT/data_cloome/our_images/metadata_try_v5.csv'\n",
    " #   index = '/share/data/analyses/silvija/RT/data_cloome/our_images/metadata_P102785.csv'          # Used for 6 samples\n",
    "    index = '/share/data/analyses/silvija/RT/data_cloome/our_images/preprocessing_all/metadata_P102785.csv'          # preprocessing_all/ added\n",
    "    \n",
    "    #outdir = \"/publicwork/sanchez/data/\"\n",
    "    outdir = '/share/data/analyses/silvija/RT/data_cloome/our_images/preprocessing_all/'           # preprocessing_all/ added\n",
    "#    outfile_hdf = \"morgan_chiral_fps.hdf5\"                                                        # Used for 6 samples\n",
    "    outfile_hdf = \"morgan_chiral_fps_P102785.hdf5\"\n",
    "    outfile_hdf = os.path.join(outdir, outfile_hdf)\n",
    "\n",
    "    n_cpus = 60\n",
    "\n",
    "    csv = pd.read_csv(index)\n",
    "\n",
    "  #  print(csv)\n",
    "\n",
    "    csv[\"ID\"] = csv.apply(lambda row: \"-\".join([str(row[\"PLATE_ID\"]), str(row[\"WELL_POSITION\"]),  str(row[\"SITE\"])]), axis=1)\n",
    "    \n",
    "    ids = csv[\"ID\"]\n",
    "    smiles = csv[\"SMILES\"]\n",
    "    \n",
    "    fps = helpers.parallelize(morgan_from_smiles, smiles, n_cpus)\n",
    "\n",
    "    columns = [str(i) for i in range(fps[0].shape[0])]\n",
    "\n",
    "    df = pd.DataFrame(fps, index=ids, columns=columns)\n",
    "\n",
    "    df[\"SAMPLE_KEY\"] = df.index\n",
    "   # df = pd.DataFrame(fps, index=ids, columns=columns)\n",
    "   # df[\"SAMPLE_KEY\"] = ids\n",
    "    \n",
    "    df.to_hdf(outfile_hdf, key=\"df\", mode=\"w\")"
   ]
  },
  {
   "cell_type": "code",
   "execution_count": 11,
   "id": "bc0e2df9-0bea-490d-b33d-bb0e04aff9e3",
   "metadata": {},
   "outputs": [
    {
     "name": "stdout",
     "output_type": "stream",
     "text": [
      "Shape of dataframe : (2385, 1025)\n",
      "\n",
      "               0  1  2  3  4  5  6  7  8  9  ...  1015  1016  1017  1018  \\\n",
      "ID                                           ...                           \n",
      "P102785-A03-1  0  0  0  0  0  0  0  0  0  0  ...     0     0     0     0   \n",
      "P102785-A03-2  0  0  0  0  0  0  0  0  0  0  ...     0     0     0     0   \n",
      "P102785-A03-3  0  0  0  0  0  0  0  0  0  0  ...     0     0     0     0   \n",
      "P102785-A03-4  0  0  0  0  0  0  0  0  0  0  ...     0     0     0     0   \n",
      "P102785-A03-5  0  0  0  0  0  0  0  0  0  0  ...     0     0     0     0   \n",
      "\n",
      "               1019  1020  1021  1022  1023     SAMPLE_KEY  \n",
      "ID                                                          \n",
      "P102785-A03-1     1     0     0     0     0  P102785-A03-1  \n",
      "P102785-A03-2     1     0     0     0     0  P102785-A03-2  \n",
      "P102785-A03-3     1     0     0     0     0  P102785-A03-3  \n",
      "P102785-A03-4     1     0     0     0     0  P102785-A03-4  \n",
      "P102785-A03-5     1     0     0     0     0  P102785-A03-5  \n",
      "\n",
      "[5 rows x 1025 columns]\n"
     ]
    }
   ],
   "source": [
    "# Loading of the created HDF5 file\n",
    "#hdf5_filename = '/share/data/analyses/silvija/RT/data_cloome/our_images/morgan_chiral_fps.hdf5'\n",
    "hdf5_filename = outfile_hdf\n",
    "\n",
    "df_loaded = pd.read_hdf(hdf5_filename, key='df')\n",
    "\n",
    "print(f\"Shape of dataframe : {df_loaded.shape}\\n\")\n",
    "print(df_loaded.head())\n"
   ]
  },
  {
   "cell_type": "code",
   "execution_count": 3,
   "id": "63c1add2-2fe8-4461-ab8b-50692d0a218b",
   "metadata": {},
   "outputs": [
    {
     "name": "stdout",
     "output_type": "stream",
     "text": [
      "               0  1  2  3  4  5  6  7  8  9  ...  1015  1016  1017  1018  \\\n",
      "ID                                           ...                           \n",
      "P102785-K09-2  0  1  1  0  1  0  0  0  0  0  ...     0     0     0     0   \n",
      "\n",
      "               1019  1020  1021  1022  1023     SAMPLE_KEY  \n",
      "ID                                                          \n",
      "P102785-K09-2     1     1     0     0     0  P102785-K09-2  \n",
      "\n",
      "[1 rows x 1025 columns]\n"
     ]
    }
   ],
   "source": [
    "print(df_loaded[df_loaded['SAMPLE_KEY'] == 'P102785-K09-2'])"
   ]
  },
  {
   "cell_type": "code",
   "execution_count": 4,
   "id": "9b756918-7a5e-4070-b5fe-f7b216838211",
   "metadata": {},
   "outputs": [
    {
     "name": "stdout",
     "output_type": "stream",
     "text": [
      "[]\n"
     ]
    }
   ],
   "source": [
    "duplicate_sample_keys = df_loaded[df_loaded.duplicated(subset='SAMPLE_KEY', keep=False)]['SAMPLE_KEY'].unique()\n",
    "print(duplicate_sample_keys)"
   ]
  },
  {
   "cell_type": "code",
   "execution_count": 5,
   "id": "151dac68-312f-4fa3-94c1-04c520bc733c",
   "metadata": {},
   "outputs": [
    {
     "name": "stdout",
     "output_type": "stream",
     "text": [
      "     Compound ID   Batch nr CUSTOMER_ID       MOLFORMULA  MOLWEIGHT  \\\n",
      "579    CBK289990  BJ1896664   A54141700         C20H24N2     292.43   \n",
      "4592   CBK289990  BJ1894466   K83192048  C20H24N2.C4H4O4     408.50   \n",
      "\n",
      "                      NAME        VENDOR                           ADD_INFO  \\\n",
      "579            dimetindene  BOC Sciences                      CAS 5636-83-9   \n",
      "4592  dimethindene-(S)-(+)    Bio-Techne  CAS 136152-65-3, maleic acid salt   \n",
      "\n",
      "                                             SMILES  \\\n",
      "579             CC(C1=C(CCN(C)C)Cc2ccccc12)c1ccccn1   \n",
      "4592  C[C@H](C3=NC=CC=C3)C2=C(CCN(C)C)CC1=CC=CC=C12   \n",
      "\n",
      "                                             IUPAC_NAME STEREOCHEMISTRY  \\\n",
      "579   N,N-dimethyl-2-[3-[1-(2-pyridyl)ethyl]-1H-inde...             NaN   \n",
      "4592  N,N-Dimethyl-3-[(1S)-1-(2-pyridinyl)ethyl]-1H-...     (1S)-isomer   \n",
      "\n",
      "                pert_iname clinical_phase  \\\n",
      "579            dimetindene       Launched   \n",
      "4592  dimethindene-(S)-(+)    Preclinical   \n",
      "\n",
      "                                                    moa target disease_area  \\\n",
      "579   cholinergic receptor antagonist|histamine rece...   HRH1      allergy   \n",
      "4592                  acetylcholine receptor antagonist   HRH1          NaN   \n",
      "\n",
      "             indication  \n",
      "579   allergic rhinitis  \n",
      "4592                NaN  \n"
     ]
    }
   ],
   "source": [
    "df_mol = pd.read_csv('/share/data/analyses/silvija/official_information_annotations_and_SMILES.xlsx - Chemical information.csv')\n",
    "print(df_mol[df_mol['Compound ID'] == 'CBK289990'])"
   ]
  },
  {
   "cell_type": "code",
   "execution_count": null,
   "id": "4df3cb15-85d4-4a4b-b63f-7c851c57e8e6",
   "metadata": {},
   "outputs": [],
   "source": []
  }
 ],
 "metadata": {
  "kernelspec": {
   "display_name": "Cloome Environment",
   "language": "python",
   "name": "cloome"
  },
  "language_info": {
   "codemirror_mode": {
    "name": "ipython",
    "version": 3
   },
   "file_extension": ".py",
   "mimetype": "text/x-python",
   "name": "python",
   "nbconvert_exporter": "python",
   "pygments_lexer": "ipython3",
   "version": "3.9.7"
  }
 },
 "nbformat": 4,
 "nbformat_minor": 5
}
